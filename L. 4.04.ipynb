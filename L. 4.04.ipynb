{
 "cells": [
  {
   "cell_type": "code",
   "execution_count": null,
   "metadata": {
    "executionInfo": {
     "elapsed": 641,
     "status": "ok",
     "timestamp": 1618305119099,
     "user": {
      "displayName": "David Henriques",
      "photoUrl": "",
      "userId": "14332050621134291491"
     },
     "user_tz": -60
    },
    "id": "Bq0KH1i_NyRd"
   },
   "outputs": [],
   "source": [
    "import scipy.stats as st\n",
    "import numpy as np"
   ]
  },
  {
   "cell_type": "code",
   "execution_count": null,
   "metadata": {
    "executionInfo": {
     "elapsed": 344,
     "status": "ok",
     "timestamp": 1618305119925,
     "user": {
      "displayName": "David Henriques",
      "photoUrl": "",
      "userId": "14332050621134291491"
     },
     "user_tz": -60
    },
    "id": "EvFbv4f4OEBa"
   },
   "outputs": [],
   "source": [
    "cars_table=[[256,74],\n",
    "            [41,42],\n",
    "            [66,34]]"
   ]
  },
  {
   "cell_type": "code",
   "execution_count": null,
   "metadata": {
    "colab": {
     "base_uri": "https://localhost:8080/"
    },
    "executionInfo": {
     "elapsed": 720,
     "status": "ok",
     "timestamp": 1618305121215,
     "user": {
      "displayName": "David Henriques",
      "photoUrl": "",
      "userId": "14332050621134291491"
     },
     "user_tz": -60
    },
    "id": "ybsSIkbCOItk",
    "outputId": "94c8b95b-463f-42ec-eff6-8cc32b77b876"
   },
   "outputs": [],
   "source": [
    "st.chi2_contingency(np.array(cars_table))"
   ]
  },
  {
   "cell_type": "code",
   "execution_count": null,
   "metadata": {
    "id": "TrWdFyHrOphP"
   },
   "outputs": [],
   "source": [
    "#seems like our car manufacturers are actually quite differentiated.\n",
    "#good for them!"
   ]
  },
  {
   "cell_type": "code",
   "execution_count": null,
   "metadata": {
    "executionInfo": {
     "elapsed": 635,
     "status": "ok",
     "timestamp": 1618305128025,
     "user": {
      "displayName": "David Henriques",
      "photoUrl": "",
      "userId": "14332050621134291491"
     },
     "user_tz": -60
    },
    "id": "U1DAsxPrObGx"
   },
   "outputs": [],
   "source": [
    "import pandas as pd"
   ]
  },
  {
   "cell_type": "code",
   "execution_count": null,
   "metadata": {
    "colab": {
     "base_uri": "https://localhost:8080/",
     "height": 224
    },
    "executionInfo": {
     "elapsed": 918,
     "status": "ok",
     "timestamp": 1618305129532,
     "user": {
      "displayName": "David Henriques",
      "photoUrl": "",
      "userId": "14332050621134291491"
     },
     "user_tz": -60
    },
    "id": "QXZkeZJBOKfI",
    "outputId": "a41421f8-f5fb-45c5-a097-24ffabc66166"
   },
   "outputs": [],
   "source": [
    "data = pd.read_csv('HC4A_unit4_404.csv')\n",
    "data.head()"
   ]
  },
  {
   "cell_type": "code",
   "execution_count": null,
   "metadata": {},
   "outputs": [],
   "source": [
    "data['MDMAUD'].value_counts(dropna=False)"
   ]
  },
  {
   "cell_type": "code",
   "execution_count": null,
   "metadata": {
    "colab": {
     "base_uri": "https://localhost:8080/",
     "height": 439
    },
    "executionInfo": {
     "elapsed": 648,
     "status": "ok",
     "timestamp": 1618305130906,
     "user": {
      "displayName": "David Henriques",
      "photoUrl": "",
      "userId": "14332050621134291491"
     },
     "user_tz": -60
    },
    "id": "8LTNla9EQjIn",
    "outputId": "27bd7125-4af0-433d-d862-d0a9489cfa1a"
   },
   "outputs": [],
   "source": [
    "matrix_donors = data[data['MDMAUD']!='XXXX']\n",
    "matrix_donors.shape"
   ]
  },
  {
   "cell_type": "code",
   "execution_count": null,
   "metadata": {},
   "outputs": [],
   "source": [
    "matrix_donors['DOMAIN'].value_counts(dropna=False)"
   ]
  },
  {
   "cell_type": "code",
   "execution_count": null,
   "metadata": {
    "colab": {
     "base_uri": "https://localhost:8080/",
     "height": 565
    },
    "executionInfo": {
     "elapsed": 526,
     "status": "ok",
     "timestamp": 1618305135833,
     "user": {
      "displayName": "David Henriques",
      "photoUrl": "",
      "userId": "14332050621134291491"
     },
     "user_tz": -60
    },
    "id": "VCKHzsVKQwFT",
    "outputId": "65bd0b6a-6828-4c3c-c0b5-d380fb277fc4"
   },
   "outputs": [],
   "source": [
    "data_crosstab = pd.crosstab(matrix_donors['DOMAIN'], matrix_donors['MDMAUD'], margins=False)\n",
    "data_crosstab"
   ]
  },
  {
   "cell_type": "code",
   "execution_count": null,
   "metadata": {
    "colab": {
     "base_uri": "https://localhost:8080/"
    },
    "executionInfo": {
     "elapsed": 797,
     "status": "ok",
     "timestamp": 1618305137559,
     "user": {
      "displayName": "David Henriques",
      "photoUrl": "",
      "userId": "14332050621134291491"
     },
     "user_tz": -60
    },
    "id": "A1UyTfeiRCEG",
    "outputId": "63a8fa55-ef3d-48cb-be71-d83cf4e9564c"
   },
   "outputs": [],
   "source": [
    "st.chi2_contingency(data_crosstab)[1]\n",
    "# H0: MDMAUD and DOMAIN are not related\n",
    "# p > 0.05 ===> we can not reject the H0 ===> we can work under the assumption that they are not related"
   ]
  },
  {
   "cell_type": "code",
   "execution_count": null,
   "metadata": {
    "id": "GI6MWZN_R3AB"
   },
   "outputs": [],
   "source": [
    "# There is not enough evidence that people from different urban sprawls lapse faster/slower "
   ]
  },
  {
   "cell_type": "code",
   "execution_count": null,
   "metadata": {
    "executionInfo": {
     "elapsed": 772,
     "status": "ok",
     "timestamp": 1618305151555,
     "user": {
      "displayName": "David Henriques",
      "photoUrl": "",
      "userId": "14332050621134291491"
     },
     "user_tz": -60
    },
    "id": "X1Q5Q8fLRTFJ"
   },
   "outputs": [],
   "source": [
    "narrowdown_states = data[(data['STATE']== 'CA')|(data['STATE'] == 'IL')]"
   ]
  },
  {
   "cell_type": "code",
   "execution_count": null,
   "metadata": {
    "colab": {
     "base_uri": "https://localhost:8080/",
     "height": 576
    },
    "executionInfo": {
     "elapsed": 599,
     "status": "ok",
     "timestamp": 1618305151818,
     "user": {
      "displayName": "David Henriques",
      "photoUrl": "",
      "userId": "14332050621134291491"
     },
     "user_tz": -60
    },
    "id": "JKw3Tx--RErt",
    "outputId": "e4b909f4-443f-4563-e6af-74036bcb448f"
   },
   "outputs": [],
   "source": [
    "data_crosstab = pd.crosstab(narrowdown_states['DOMAIN'], narrowdown_states['STATE'], margins = False)\n",
    "data_crosstab"
   ]
  },
  {
   "cell_type": "code",
   "execution_count": null,
   "metadata": {
    "colab": {
     "base_uri": "https://localhost:8080/"
    },
    "executionInfo": {
     "elapsed": 659,
     "status": "ok",
     "timestamp": 1618305155871,
     "user": {
      "displayName": "David Henriques",
      "photoUrl": "",
      "userId": "14332050621134291491"
     },
     "user_tz": -60
    },
    "id": "u72iWVXIRO6C",
    "outputId": "4c5d4d60-2417-44c1-a597-aba283ac7606"
   },
   "outputs": [],
   "source": [
    "st.chi2_contingency(data_crosstab)[1]"
   ]
  },
  {
   "cell_type": "code",
   "execution_count": null,
   "metadata": {
    "id": "zwXsM7D1RQL9"
   },
   "outputs": [],
   "source": [
    "# There is plenty of evidence that states and urban sprawl levels are NOT independent"
   ]
  },
  {
   "cell_type": "code",
   "execution_count": null,
   "metadata": {
    "id": "XYBVKfA4UyCk"
   },
   "outputs": [],
   "source": [
    "#ACTIVITY: Do INCOME vs GENDER"
   ]
  },
  {
   "cell_type": "code",
   "execution_count": null,
   "metadata": {
    "executionInfo": {
     "elapsed": 639,
     "status": "ok",
     "timestamp": 1618305162781,
     "user": {
      "displayName": "David Henriques",
      "photoUrl": "",
      "userId": "14332050621134291491"
     },
     "user_tz": -60
    },
    "id": "_REKYbtzU-wU"
   },
   "outputs": [],
   "source": [
    "import pandas as pd"
   ]
  },
  {
   "cell_type": "code",
   "execution_count": null,
   "metadata": {
    "colab": {
     "base_uri": "https://localhost:8080/",
     "height": 297
    },
    "executionInfo": {
     "elapsed": 526,
     "status": "ok",
     "timestamp": 1618305170884,
     "user": {
      "displayName": "David Henriques",
      "photoUrl": "",
      "userId": "14332050621134291491"
     },
     "user_tz": -60
    },
    "id": "3AIi1qIxVj1I",
    "outputId": "67217492-f3f9-4e52-9a74-972bb14ddf71"
   },
   "outputs": [],
   "source": [
    "data_crosstab = pd.crosstab(data['INCOME'], data['GENDER'], margins = False)\n",
    "data_crosstab"
   ]
  },
  {
   "cell_type": "code",
   "execution_count": null,
   "metadata": {
    "colab": {
     "base_uri": "https://localhost:8080/"
    },
    "executionInfo": {
     "elapsed": 528,
     "status": "ok",
     "timestamp": 1618305174319,
     "user": {
      "displayName": "David Henriques",
      "photoUrl": "",
      "userId": "14332050621134291491"
     },
     "user_tz": -60
    },
    "id": "frgUdg75WBzu",
    "outputId": "e458456e-c479-494a-b9eb-29eb9f3747a4"
   },
   "outputs": [],
   "source": [
    "st.chi2_contingency(data_crosstab)"
   ]
  },
  {
   "cell_type": "code",
   "execution_count": null,
   "metadata": {
    "id": "69l627izWEQu"
   },
   "outputs": [],
   "source": [
    "# Indeed there seems to be evidence that INCOME is NOT independent from GENDER"
   ]
  },
  {
   "cell_type": "markdown",
   "metadata": {
    "id": "m3N9qt81WRB6"
   },
   "source": [
    "# Multicollinearity revisited"
   ]
  },
  {
   "cell_type": "code",
   "execution_count": null,
   "metadata": {
    "executionInfo": {
     "elapsed": 527,
     "status": "ok",
     "timestamp": 1618305181676,
     "user": {
      "displayName": "David Henriques",
      "photoUrl": "",
      "userId": "14332050621134291491"
     },
     "user_tz": -60
    },
    "id": "CCq8HNnfWlA9"
   },
   "outputs": [],
   "source": [
    "import matplotlib.pyplot as plt\n",
    "import seaborn as sns"
   ]
  },
  {
   "cell_type": "code",
   "execution_count": null,
   "metadata": {
    "colab": {
     "base_uri": "https://localhost:8080/",
     "height": 204
    },
    "executionInfo": {
     "elapsed": 871,
     "status": "ok",
     "timestamp": 1618305182608,
     "user": {
      "displayName": "David Henriques",
      "photoUrl": "",
      "userId": "14332050621134291491"
     },
     "user_tz": -60
    },
    "id": "OEE_enzdZlzP",
    "outputId": "9d4607b2-d4ef-4d50-bfb1-291d6e8b7ab9"
   },
   "outputs": [],
   "source": [
    "savings = pd.read_csv('savings.csv')\n",
    "savings"
   ]
  },
  {
   "cell_type": "code",
   "execution_count": null,
   "metadata": {
    "colab": {
     "base_uri": "https://localhost:8080/",
     "height": 173
    },
    "executionInfo": {
     "elapsed": 362,
     "status": "ok",
     "timestamp": 1618305183412,
     "user": {
      "displayName": "David Henriques",
      "photoUrl": "",
      "userId": "14332050621134291491"
     },
     "user_tz": -60
    },
    "id": "UvHmIW3dZwFc",
    "outputId": "bcc51633-b6bc-4661-da5d-be0154cfb479"
   },
   "outputs": [],
   "source": [
    "savings.corr()"
   ]
  },
  {
   "cell_type": "code",
   "execution_count": null,
   "metadata": {
    "colab": {
     "base_uri": "https://localhost:8080/",
     "height": 338
    },
    "executionInfo": {
     "elapsed": 833,
     "status": "ok",
     "timestamp": 1618305185252,
     "user": {
      "displayName": "David Henriques",
      "photoUrl": "",
      "userId": "14332050621134291491"
     },
     "user_tz": -60
    },
    "id": "yiCeKr1RbIf6",
    "outputId": "ff72437d-eb25-41b3-cd15-d65f2882eade"
   },
   "outputs": [],
   "source": [
    "sns.heatmap(savings.corr(), annot=True)\n",
    "plt.show()"
   ]
  },
  {
   "cell_type": "code",
   "execution_count": null,
   "metadata": {
    "executionInfo": {
     "elapsed": 555,
     "status": "ok",
     "timestamp": 1618305186530,
     "user": {
      "displayName": "David Henriques",
      "photoUrl": "",
      "userId": "14332050621134291491"
     },
     "user_tz": -60
    },
    "id": "yBamsmRid2tr"
   },
   "outputs": [],
   "source": [
    "#we suspect \"Total savings\" is actually correlated with the others..."
   ]
  },
  {
   "cell_type": "code",
   "execution_count": null,
   "metadata": {
    "colab": {
     "base_uri": "https://localhost:8080/",
     "height": 204
    },
    "executionInfo": {
     "elapsed": 387,
     "status": "ok",
     "timestamp": 1618305186777,
     "user": {
      "displayName": "David Henriques",
      "photoUrl": "",
      "userId": "14332050621134291491"
     },
     "user_tz": -60
    },
    "id": "WCxZgczEbmAe",
    "outputId": "70320fb7-2c10-4c46-e082-51a57dd42df0"
   },
   "outputs": [],
   "source": [
    "savings['Control'] = savings['checking_acc'] +savings['savings_acc'] +savings['investment_acc'] \n",
    "savings.head()\n",
    "#indeed we know that"
   ]
  },
  {
   "cell_type": "code",
   "execution_count": null,
   "metadata": {
    "executionInfo": {
     "elapsed": 572,
     "status": "ok",
     "timestamp": 1618305188136,
     "user": {
      "displayName": "David Henriques",
      "photoUrl": "",
      "userId": "14332050621134291491"
     },
     "user_tz": -60
    },
    "id": "N1Qf9IsvdzUs"
   },
   "outputs": [],
   "source": [
    "#in general, we can't expect this to be so easy"
   ]
  },
  {
   "cell_type": "code",
   "execution_count": null,
   "metadata": {
    "executionInfo": {
     "elapsed": 590,
     "status": "ok",
     "timestamp": 1618305188552,
     "user": {
      "displayName": "David Henriques",
      "photoUrl": "",
      "userId": "14332050621134291491"
     },
     "user_tz": -60
    },
    "id": "NnzSXt1Cb6xW"
   },
   "outputs": [],
   "source": [
    "from sklearn.linear_model import LinearRegression\n",
    "from sklearn.model_selection import train_test_split\n",
    "from sklearn.metrics import r2_score"
   ]
  },
  {
   "cell_type": "code",
   "execution_count": null,
   "metadata": {
    "executionInfo": {
     "elapsed": 524,
     "status": "ok",
     "timestamp": 1618305190679,
     "user": {
      "displayName": "David Henriques",
      "photoUrl": "",
      "userId": "14332050621134291491"
     },
     "user_tz": -60
    },
    "id": "Zn0jec2aeEPY"
   },
   "outputs": [],
   "source": [
    "y = savings['Total Savings']\n",
    "X = savings[['checking_acc','savings_acc', 'investment_acc']]\n",
    "X_train, X_test, y_train, y_test = train_test_split(X,y)"
   ]
  },
  {
   "cell_type": "code",
   "execution_count": null,
   "metadata": {
    "executionInfo": {
     "elapsed": 359,
     "status": "ok",
     "timestamp": 1618305191542,
     "user": {
      "displayName": "David Henriques",
      "photoUrl": "",
      "userId": "14332050621134291491"
     },
     "user_tz": -60
    },
    "id": "3mDLEFg7dVEC"
   },
   "outputs": [],
   "source": [
    "LR = LinearRegression().fit(X_train,y_train)"
   ]
  },
  {
   "cell_type": "code",
   "execution_count": null,
   "metadata": {
    "executionInfo": {
     "elapsed": 626,
     "status": "ok",
     "timestamp": 1618305192554,
     "user": {
      "displayName": "David Henriques",
      "photoUrl": "",
      "userId": "14332050621134291491"
     },
     "user_tz": -60
    },
    "id": "dfncipmGeQzs"
   },
   "outputs": [],
   "source": [
    "y_pred = LR.predict(X_test)"
   ]
  },
  {
   "cell_type": "code",
   "execution_count": null,
   "metadata": {
    "colab": {
     "base_uri": "https://localhost:8080/"
    },
    "executionInfo": {
     "elapsed": 355,
     "status": "ok",
     "timestamp": 1618305192868,
     "user": {
      "displayName": "David Henriques",
      "photoUrl": "",
      "userId": "14332050621134291491"
     },
     "user_tz": -60
    },
    "id": "MbUL_P9NetRO",
    "outputId": "d1e60277-9cd3-4ea8-d60a-44f28ad2c37f"
   },
   "outputs": [],
   "source": [
    "r2_score(y_pred,y_test)"
   ]
  },
  {
   "cell_type": "code",
   "execution_count": null,
   "metadata": {},
   "outputs": [],
   "source": [
    "y_pred[:5]"
   ]
  },
  {
   "cell_type": "code",
   "execution_count": null,
   "metadata": {},
   "outputs": [],
   "source": [
    "y_test[:5]"
   ]
  },
  {
   "cell_type": "code",
   "execution_count": null,
   "metadata": {
    "id": "T1JQvKDDez8A"
   },
   "outputs": [],
   "source": [
    "#the value is completely redundant, we should take it out!"
   ]
  },
  {
   "cell_type": "code",
   "execution_count": null,
   "metadata": {},
   "outputs": [],
   "source": [
    "LR.coef_"
   ]
  },
  {
   "cell_type": "code",
   "execution_count": null,
   "metadata": {},
   "outputs": [],
   "source": [
    "LR.intercept_"
   ]
  },
  {
   "cell_type": "code",
   "execution_count": null,
   "metadata": {},
   "outputs": [],
   "source": []
  }
 ],
 "metadata": {
  "colab": {
   "collapsed_sections": [],
   "name": "L. 4.04.ipynb",
   "provenance": []
  },
  "kernelspec": {
   "display_name": "Python 3 (ipykernel)",
   "language": "python",
   "name": "python3"
  },
  "language_info": {
   "codemirror_mode": {
    "name": "ipython",
    "version": 3
   },
   "file_extension": ".py",
   "mimetype": "text/x-python",
   "name": "python",
   "nbconvert_exporter": "python",
   "pygments_lexer": "ipython3",
   "version": "3.7.3"
  }
 },
 "nbformat": 4,
 "nbformat_minor": 1
}
